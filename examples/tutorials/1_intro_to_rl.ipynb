{
  "cells": [
    {
      "cell_type": "markdown",
      "metadata": {
        "id": "view-in-github",
        "colab_type": "text"
      },
      "source": [
        "<a href=\"https://colab.research.google.com/github/Lux-AI-Challenge/Lux-Design-S2/blob/tutorials/examples/tutorials/1_intro_to_rl.ipynb\" target=\"_parent\"><img src=\"https://colab.research.google.com/assets/colab-badge.svg\" alt=\"Open In Colab\"/></a>"
      ]
    },
    {
      "cell_type": "markdown",
      "id": "de174021-dda2-46b7-b125-96ad105d0c1a",
      "metadata": {
        "id": "de174021-dda2-46b7-b125-96ad105d0c1a"
      },
      "source": [
        "# Introduction to Reinforcement Learning 🤖\n",
        "\n",
        "Looking to try out RL for the Lux AI competition on Kaggle? If you haven't tried RL before, this tutorial is a perfect quick start into how RL generally works, and how to program a basic agent. This is part 1 of a 3 part series on training RL agents leading up to a succesful RL agent submittable to the Lux AI competition. Part 1 will cover the basics of RL, how gym environments work, and how to train an agent and scale up training.\n",
        "\n",
        "\n",
        "Let's dig in, welcome to the world of reinforcement learning!\n",
        "\n",
        "In AI, RL is a framework of **learning via interaction**, often trying to **maximize the reinforcing reward**. Humans and animals alike sort of naturally follow the paradigm in learning behaviors. We reward a dog for doing a trick via a positive reward signal by giving it a treat. We penalize a dog for peeing on the floor by giving a negative reward signal (saying no!) or giving no reward. For a fun video of reinforcement learning you can watch this chicken below immediately learn to peck a particular colored dot via reinforcing it's actions with food."
      ]
    },
    {
      "cell_type": "code",
      "execution_count": null,
      "id": "f4e2c7ae-2753-43cc-ab8f-3f3d3d8f169d",
      "metadata": {
        "id": "f4e2c7ae-2753-43cc-ab8f-3f3d3d8f169d",
        "outputId": "c2166dc3-5247-43b6-b4a1-26e632490db9"
      },
      "outputs": [
        {
          "data": {
            "text/html": [
              "\n",
              "        <iframe\n",
              "            width=\"640\"\n",
              "            height=\"480\"\n",
              "            src=\"https://www.youtube.com/embed/spfpBrBjntg\"\n",
              "            frameborder=\"0\"\n",
              "            allowfullscreen\n",
              "            \n",
              "        ></iframe>\n",
              "        "
            ],
            "text/plain": [
              "<IPython.lib.display.IFrame at 0x7f1aec1a4520>"
            ]
          },
          "execution_count": 1,
          "metadata": {},
          "output_type": "execute_result"
        }
      ],
      "source": [
        "from IPython.display import IFrame\n",
        "IFrame(\"https://www.youtube.com/embed/spfpBrBjntg\", 640, 480,)#'<iframe width=\"560\" height=\"315\" src=\"\" title=\"YouTube video player\" frameborder=\"0\" allow=\"accelerometer; autoplay; clipboard-write; encrypted-media; gyroscope; picture-in-picture; web-share\" allowfullscreen></iframe>')"
      ]
    },
    {
      "cell_type": "markdown",
      "id": "e60dcfed-dd5d-4de9-8baa-94c8d15dbf0f",
      "metadata": {
        "id": "e60dcfed-dd5d-4de9-8baa-94c8d15dbf0f"
      },
      "source": [
        "RL has seen a massive growth in applications in recent years thanks to the rise of deep learning resulting in Deep Reinforcement Learning. Deep learning has enabled models trained via RL to solve far more complex tasks, including [mining diamonds in Minecraft](https://danijar.com/project/dreamerv3/), [managing a nuclear fusion reactor](https://www.deepmind.com/blog/accelerating-fusion-science-through-learned-plasma-control), or [controlling a legged robot](https://manipulation-locomotion.github.io/).\n",
        "\n",
        "\n",
        "This tutorial will cover the practical basics of RL and how to program a simple deep RL agent. For those more interested in some of the history, math, and more advanced details of RL I highly recommend reading the following seminal book on RL by Richard S. Sutton and Andrew G. Barto: http://www.incompleteideas.net/book/RLbook2020.pdf"
      ]
    },
    {
      "cell_type": "markdown",
      "id": "8d66aaa4-2399-43fc-82fd-5a9490f7e4dd",
      "metadata": {
        "id": "8d66aaa4-2399-43fc-82fd-5a9490f7e4dd"
      },
      "source": [
        "## 1 The Environment Loop\n",
        "\n",
        "The core component of RL is the environment loop. It's what enables an agent in an environment to repeatedly interact and improve itself.\n",
        "\n",
        "We discretize time in an environment into individual **time steps** labeled as `t` below. At each time step, the agent uses the current environment observation (also known as state) $S_t$ to produce an action $A_t$ and executes that action in the environment. The environment updates in response to the action and gives the agent a new observation $S_{t+1}$ as well as a reward signal $R_{t+1}$ telling the agent how well it is doing. Eventually the environment will tell the agent it is completed and this completes one full episode.\n",
        "\n",
        "![](https://github.com/Lux-AI-Challenge/Lux-Design-S2/blob/tutorials/examples/tutorials/assets/rl_loop.jpg?raw=1)\n",
        "\n",
        "These days, in deep RL the agent is typically a deep neural network that takes an observation as input and produces an action as output.\n",
        "\n",
        "While the agent is continously interacting, it will also periodically update its neural network via an optimization algorithm with a few objectives. Training in RL requires balancing exploration and exploitation. While the overall goal of the agent is to exploit and to **maximize return** (the sum of rewards in an episode), you can easily learn suboptimal behaviors if you don't explore sufficiently in an environment to find better strategies. This explore vs exploitation problem is a foundational problem in RL that is still researched to this day.\n",
        "\n",
        "For a deep dive into the math and algorithms the [Spinning Up project](https://spinningup.openai.com/en/latest/) provides a great tutorial on some of the modern deep RL algorithms.\n"
      ]
    },
    {
      "cell_type": "markdown",
      "id": "025af1f0-d3a7-48e5-84fe-5eb123fa8db9",
      "metadata": {
        "id": "025af1f0-d3a7-48e5-84fe-5eb123fa8db9"
      },
      "source": [
        "### 1.1 Environment Loop Code\n",
        "\n",
        "Let's get programming! The [Gym](https://github.com/openai/gym) package has now become the de-facto standard of the environment API and we will write code to show how to create an environment and interact with it here\n",
        "\n",
        "*Note: Recently the [Farama Foundation](https://farama.org/) which now manages the Gym package (now called [Gymnasium](https://www.gymlibrary.dev/)) has made several changes to the Gym API which is incompatible with most environments and RL libraries at the moment. This tutorial will be using the original API.*\n",
        "\n",
        "Let's first import a few packages."
      ]
    },
    {
      "cell_type": "code",
      "execution_count": null,
      "id": "f41b4156-e0ce-49f5-8f7a-cb1cadf38d85",
      "metadata": {
        "id": "f41b4156-e0ce-49f5-8f7a-cb1cadf38d85"
      },
      "outputs": [],
      "source": [
        "import gym\n",
        "import numpy as np\n",
        "import matplotlib.pyplot as plt\n",
        "from PIL import Image"
      ]
    },
    {
      "cell_type": "markdown",
      "id": "0b7b127c-797e-4ce7-b1d3-c05edca2e682",
      "metadata": {
        "id": "0b7b127c-797e-4ce7-b1d3-c05edca2e682"
      },
      "source": [
        "To create an environment with `gym`, any environemnt that is registered with gym can be created with `gym.make(env_id)`. To start looking at what it looks like you have to first call `env.reset()` to start from a clean state. It's highly recommended to also use `env.seed` to seed environment to ensure reproducible resultss.\n",
        "\n",
        "`env.render()` will render the environment with a display window (if possible). For users without access to GUI (e.g. on Google Colab, Kaggle notebooks etc.), you can call `env.render(\"rgb_array\")` to get an RGB image and display that image to see what the current state looks like\n",
        "\n",
        "For this tutorial we will play around with the CartPole environment where the task is to keep the pole upright by simply moving the black box left and right."
      ]
    },
    {
      "cell_type": "code",
      "execution_count": null,
      "id": "d6e4bf5e-8dec-4016-9cee-9b9a9f112c20",
      "metadata": {
        "id": "d6e4bf5e-8dec-4016-9cee-9b9a9f112c20"
      },
      "outputs": [],
      "source": [
        "env_id = \"CartPole-v1\"\n",
        "env = gym.make(env_id)\n",
        "env.seed(0)\n",
        "env.reset()\n",
        "img = env.render(\"rgb_array\")\n",
        "env.close()"
      ]
    },
    {
      "cell_type": "markdown",
      "id": "1177b3ca-bd1c-4a81-b9bc-ed47b1cd38dc",
      "metadata": {
        "id": "1177b3ca-bd1c-4a81-b9bc-ed47b1cd38dc"
      },
      "source": [
        "Now let's try interacting with the environment. All environments will first define an observation space and action space. These spaces define the shape and structure of the observations returned by the environment and the actions it accepts.\n",
        "\n",
        "Neatly, the action space `env.action_space` allows you to randomly sample actions to try out. We will write a simple environment loop with random actions below. The loop will repeatedly ask for an action and we will step forward in the environment with that action via `env.step(action)`. \n",
        "\n",
        "You might notice that `env.step` returns 4 items, `obs`, `reward`, `done`, and `info`. `obs` is the next observation. `reward` is the scalard reward signal given. `done` represents a somewhat ambiguous meaning. When it's `True` it means the episode is completed and you must call `env.reset()` before stepping through it again. Episode completion can occur for a number of reasons depending on the chosen environment. For CartPole-v0, `done` is `True` whenever a time limit is reached or if the pole falls down too far. Finally `info` usually is not important, but may contain some useful information depending on the environment.\n",
        "\n",
        "For users without a GUI, we also provide a simple animation function to record and save videos"
      ]
    },
    {
      "cell_type": "code",
      "execution_count": null,
      "id": "427120db-4bf6-41b9-9ee3-a9e89cb8b5b7",
      "metadata": {
        "tags": [],
        "id": "427120db-4bf6-41b9-9ee3-a9e89cb8b5b7"
      },
      "outputs": [],
      "source": [
        "def animate(imgs, video_name=None, _return=True):\n",
        "    # using cv2 to generate videos\n",
        "    import cv2\n",
        "    import os\n",
        "    import string\n",
        "    import random\n",
        "    video_name = video_name if video_name is not None else ''.join(random.choice(string.ascii_letters) for i in range(18))+'.webm'\n",
        "    height, width, layers = imgs[0].shape\n",
        "    video = cv2.VideoWriter(video_name, cv2.VideoWriter_fourcc(*'VP80'), 20, (width,height))\n",
        "    for img in imgs:\n",
        "        img = cv2.cvtColor(img, cv2.COLOR_BGR2RGB)\n",
        "        video.write(img)\n",
        "    video.release()\n",
        "    if _return:\n",
        "        from IPython.display import Video\n",
        "        return Video(video_name)"
      ]
    },
    {
      "cell_type": "code",
      "execution_count": null,
      "id": "9820cb1c-8dab-4eea-aefe-bb7a7c29d99a",
      "metadata": {
        "id": "9820cb1c-8dab-4eea-aefe-bb7a7c29d99a",
        "outputId": "948568a3-61a4-4887-a2f5-f61547aa4e88"
      },
      "outputs": [
        {
          "name": "stderr",
          "output_type": "stream",
          "text": [
            "OpenCV: FFMPEG: tag 0x30385056/'VP80' is not supported with codec id 139 and format 'webm / WebM'\n"
          ]
        },
        {
          "data": {
            "text/html": [
              "<video src=\"random_interaction.webm\" controls  >\n",
              "      Your browser does not support the <code>video</code> element.\n",
              "    </video>"
            ],
            "text/plain": [
              "<IPython.core.display.Video object>"
            ]
          },
          "execution_count": 5,
          "metadata": {},
          "output_type": "execute_result"
        }
      ],
      "source": [
        "# The environment loop\n",
        "obs = env.reset() # always reset before starting a new episode!\n",
        "imgs = []\n",
        "for i in range(100):\n",
        "    action = env.action_space.sample() # sample a random action\n",
        "    obs, reward, done, info = env.step(action) # get the new observation and reward\n",
        "    imgs += [env.render(\"rgb_array\")] # save to video\n",
        "    if done: env.reset()\n",
        "env.close() # close the display window and free up resources\n",
        "animate(imgs, \"random_interaction.webm\") # generate the video replay"
      ]
    },
    {
      "cell_type": "markdown",
      "id": "9951725c-4506-4818-80f8-a19cd70f56e0",
      "metadata": {
        "id": "9951725c-4506-4818-80f8-a19cd70f56e0"
      },
      "source": [
        "## 2 Reinforcement Learning\n",
        "\n",
        "Now that we know how an environment works, we can try to solve it via RL. The optimization code for an RL algorithm is out of the scope of the tutorial so we will rely on a popular RL library called [Stable Baselines 3 (SB3)](https://github.com/DLR-RM/stable-baselines3). Run the command below to install it"
      ]
    },
    {
      "cell_type": "code",
      "execution_count": null,
      "id": "d6bacebe-bbec-4e0a-9c4c-ed1393394f1a",
      "metadata": {
        "tags": [],
        "id": "d6bacebe-bbec-4e0a-9c4c-ed1393394f1a",
        "outputId": "4fc3debf-de8e-4357-97e6-a8037fcbb7e1"
      },
      "outputs": [
        {
          "name": "stdout",
          "output_type": "stream",
          "text": [
            "Requirement already satisfied: stable-baselines3 in /home/stao/miniconda3/envs/luxai_s2/lib/python3.8/site-packages (1.7.0)\n",
            "Requirement already satisfied: pandas in /home/stao/miniconda3/envs/luxai_s2/lib/python3.8/site-packages (from stable-baselines3) (1.5.3)\n",
            "Requirement already satisfied: gym==0.21 in /home/stao/miniconda3/envs/luxai_s2/lib/python3.8/site-packages (from stable-baselines3) (0.21.0)\n",
            "Requirement already satisfied: importlib-metadata~=4.13 in /home/stao/miniconda3/envs/luxai_s2/lib/python3.8/site-packages (from stable-baselines3) (4.13.0)\n",
            "Requirement already satisfied: numpy in /home/stao/miniconda3/envs/luxai_s2/lib/python3.8/site-packages (from stable-baselines3) (1.24.1)\n",
            "Requirement already satisfied: cloudpickle in /home/stao/miniconda3/envs/ms2tpn/lib/python3.8/site-packages (from stable-baselines3) (1.6.0)\n",
            "Requirement already satisfied: matplotlib in /home/stao/miniconda3/envs/luxai_s2/lib/python3.8/site-packages (from stable-baselines3) (3.6.3)\n",
            "Requirement already satisfied: torch>=1.11 in /home/stao/miniconda3/envs/luxai_s2/lib/python3.8/site-packages (from stable-baselines3) (1.13.1)\n",
            "Requirement already satisfied: zipp>=0.5 in /home/stao/miniconda3/envs/ms2tpn/lib/python3.8/site-packages (from importlib-metadata~=4.13->stable-baselines3) (3.9.0)\n",
            "Requirement already satisfied: nvidia-cuda-runtime-cu11==11.7.99 in /home/stao/miniconda3/envs/luxai_s2/lib/python3.8/site-packages (from torch>=1.11->stable-baselines3) (11.7.99)\n",
            "Requirement already satisfied: nvidia-cuda-nvrtc-cu11==11.7.99 in /home/stao/miniconda3/envs/luxai_s2/lib/python3.8/site-packages (from torch>=1.11->stable-baselines3) (11.7.99)\n",
            "Requirement already satisfied: typing-extensions in /home/stao/miniconda3/envs/luxai_s2/lib/python3.8/site-packages (from torch>=1.11->stable-baselines3) (4.4.0)\n",
            "Requirement already satisfied: nvidia-cublas-cu11==11.10.3.66 in /home/stao/miniconda3/envs/luxai_s2/lib/python3.8/site-packages (from torch>=1.11->stable-baselines3) (11.10.3.66)\n",
            "Requirement already satisfied: nvidia-cudnn-cu11==8.5.0.96 in /home/stao/miniconda3/envs/luxai_s2/lib/python3.8/site-packages (from torch>=1.11->stable-baselines3) (8.5.0.96)\n",
            "Requirement already satisfied: wheel in /home/stao/.local/lib/python3.8/site-packages/wheel-0.37.1-py3.8.egg (from nvidia-cublas-cu11==11.10.3.66->torch>=1.11->stable-baselines3) (0.37.1)\n",
            "Requirement already satisfied: setuptools in /home/stao/miniconda3/envs/ms2tpn/lib/python3.8/site-packages (from nvidia-cublas-cu11==11.10.3.66->torch>=1.11->stable-baselines3) (63.4.1)\n",
            "Requirement already satisfied: pyparsing>=2.2.1 in /home/stao/miniconda3/envs/luxai_s2/lib/python3.8/site-packages (from matplotlib->stable-baselines3) (3.0.9)\n",
            "Requirement already satisfied: packaging>=20.0 in /home/stao/miniconda3/envs/ms2tpn/lib/python3.8/site-packages (from matplotlib->stable-baselines3) (21.3)\n",
            "Requirement already satisfied: contourpy>=1.0.1 in /home/stao/miniconda3/envs/ms2tpn/lib/python3.8/site-packages (from matplotlib->stable-baselines3) (1.0.5)\n",
            "Requirement already satisfied: kiwisolver>=1.0.1 in /home/stao/miniconda3/envs/luxai_s2/lib/python3.8/site-packages (from matplotlib->stable-baselines3) (1.4.4)\n",
            "Requirement already satisfied: fonttools>=4.22.0 in /home/stao/miniconda3/envs/ms2tpn/lib/python3.8/site-packages (from matplotlib->stable-baselines3) (4.37.4)\n",
            "Requirement already satisfied: pillow>=6.2.0 in /home/stao/miniconda3/envs/luxai_s2/lib/python3.8/site-packages (from matplotlib->stable-baselines3) (9.4.0)\n",
            "Requirement already satisfied: cycler>=0.10 in /home/stao/miniconda3/envs/luxai_s2/lib/python3.8/site-packages (from matplotlib->stable-baselines3) (0.11.0)\n",
            "Requirement already satisfied: python-dateutil>=2.7 in /home/stao/miniconda3/envs/ms2tpn/lib/python3.8/site-packages (from matplotlib->stable-baselines3) (2.8.2)\n",
            "Requirement already satisfied: pytz>=2020.1 in /home/stao/miniconda3/envs/luxai_s2/lib/python3.8/site-packages (from pandas->stable-baselines3) (2022.7.1)\n",
            "Requirement already satisfied: six>=1.5 in /home/stao/miniconda3/envs/ms2tpn/lib/python3.8/site-packages (from python-dateutil>=2.7->matplotlib->stable-baselines3) (1.16.0)\n"
          ]
        }
      ],
      "source": [
        "!pip install stable-baselines3"
      ]
    },
    {
      "cell_type": "markdown",
      "id": "b8360d5d-9d4c-4e33-ae3e-af491c6e71db",
      "metadata": {
        "id": "b8360d5d-9d4c-4e33-ae3e-af491c6e71db"
      },
      "source": [
        "### 2.1 RL Training\n",
        "Training RL algorithms for single-agent environments like CartPole is simple with SB3.\n",
        "\n",
        "The algorithm we will use is called PPO. While the specifics of the algorithm are out of the scope, the general way an RL algorithm like PPO works is via a two stage process that constantly repeats.\n",
        "\n",
        "1. Collect interaction samples with sampled actions (observation, action, reward) from an environment and store into a replay buffer.\n",
        "\n",
        "2. Sample from the replay buffer and optimize the policy to maximize the return\n",
        "\n",
        "Below is some example code which trains a policy by interacting for up to 10,000 timesteps with the environment and then evaluates it. You will notice that compared to using random actions, this policy can keep the pole upright for much longer (success!)"
      ]
    },
    {
      "cell_type": "code",
      "execution_count": null,
      "id": "4004275b-8f1f-4a1f-950b-2a143f225ad3",
      "metadata": {
        "id": "4004275b-8f1f-4a1f-950b-2a143f225ad3",
        "outputId": "160c7a4d-ecc2-4091-da52-b87d1ec345ae"
      },
      "outputs": [
        {
          "name": "stdout",
          "output_type": "stream",
          "text": [
            "Using cuda device\n",
            "Wrapping the env with a `Monitor` wrapper\n",
            "Wrapping the env in a DummyVecEnv.\n",
            "---------------------------------\n",
            "| rollout/           |          |\n",
            "|    ep_len_mean     | 23.7     |\n",
            "|    ep_rew_mean     | 23.7     |\n",
            "| time/              |          |\n",
            "|    fps             | 1437     |\n",
            "|    iterations      | 1        |\n",
            "|    time_elapsed    | 1        |\n",
            "|    total_timesteps | 2048     |\n",
            "---------------------------------\n",
            "-----------------------------------------\n",
            "| rollout/                |             |\n",
            "|    ep_len_mean          | 26.8        |\n",
            "|    ep_rew_mean          | 26.8        |\n",
            "| time/                   |             |\n",
            "|    fps                  | 1313        |\n",
            "|    iterations           | 2           |\n",
            "|    time_elapsed         | 3           |\n",
            "|    total_timesteps      | 4096        |\n",
            "| train/                  |             |\n",
            "|    approx_kl            | 0.007153892 |\n",
            "|    clip_fraction        | 0.0791      |\n",
            "|    clip_range           | 0.2         |\n",
            "|    entropy_loss         | -0.687      |\n",
            "|    explained_variance   | 0.00589     |\n",
            "|    learning_rate        | 0.0003      |\n",
            "|    loss                 | 8.16        |\n",
            "|    n_updates            | 10          |\n",
            "|    policy_gradient_loss | -0.0126     |\n",
            "|    value_loss           | 59.5        |\n",
            "-----------------------------------------\n",
            "-----------------------------------------\n",
            "| rollout/                |             |\n",
            "|    ep_len_mean          | 34.7        |\n",
            "|    ep_rew_mean          | 34.7        |\n",
            "| time/                   |             |\n",
            "|    fps                  | 1284        |\n",
            "|    iterations           | 3           |\n",
            "|    time_elapsed         | 4           |\n",
            "|    total_timesteps      | 6144        |\n",
            "| train/                  |             |\n",
            "|    approx_kl            | 0.009535618 |\n",
            "|    clip_fraction        | 0.0706      |\n",
            "|    clip_range           | 0.2         |\n",
            "|    entropy_loss         | -0.664      |\n",
            "|    explained_variance   | 0.0665      |\n",
            "|    learning_rate        | 0.0003      |\n",
            "|    loss                 | 14.6        |\n",
            "|    n_updates            | 20          |\n",
            "|    policy_gradient_loss | -0.0204     |\n",
            "|    value_loss           | 33.9        |\n",
            "-----------------------------------------\n",
            "------------------------------------------\n",
            "| rollout/                |              |\n",
            "|    ep_len_mean          | 44.9         |\n",
            "|    ep_rew_mean          | 44.9         |\n",
            "| time/                   |              |\n",
            "|    fps                  | 1272         |\n",
            "|    iterations           | 4            |\n",
            "|    time_elapsed         | 6            |\n",
            "|    total_timesteps      | 8192         |\n",
            "| train/                  |              |\n",
            "|    approx_kl            | 0.0081915185 |\n",
            "|    clip_fraction        | 0.089        |\n",
            "|    clip_range           | 0.2          |\n",
            "|    entropy_loss         | -0.634       |\n",
            "|    explained_variance   | 0.221        |\n",
            "|    learning_rate        | 0.0003       |\n",
            "|    loss                 | 21.2         |\n",
            "|    n_updates            | 30           |\n",
            "|    policy_gradient_loss | -0.0195      |\n",
            "|    value_loss           | 51.8         |\n",
            "------------------------------------------\n",
            "-----------------------------------------\n",
            "| rollout/                |             |\n",
            "|    ep_len_mean          | 58.2        |\n",
            "|    ep_rew_mean          | 58.2        |\n",
            "| time/                   |             |\n",
            "|    fps                  | 1264        |\n",
            "|    iterations           | 5           |\n",
            "|    time_elapsed         | 8           |\n",
            "|    total_timesteps      | 10240       |\n",
            "| train/                  |             |\n",
            "|    approx_kl            | 0.007377074 |\n",
            "|    clip_fraction        | 0.0688      |\n",
            "|    clip_range           | 0.2         |\n",
            "|    entropy_loss         | -0.609      |\n",
            "|    explained_variance   | 0.273       |\n",
            "|    learning_rate        | 0.0003      |\n",
            "|    loss                 | 26.7        |\n",
            "|    n_updates            | 40          |\n",
            "|    policy_gradient_loss | -0.0182     |\n",
            "|    value_loss           | 70.1        |\n",
            "-----------------------------------------\n"
          ]
        },
        {
          "name": "stderr",
          "output_type": "stream",
          "text": [
            "OpenCV: FFMPEG: tag 0x30385056/'VP80' is not supported with codec id 139 and format 'webm / WebM'\n"
          ]
        },
        {
          "data": {
            "text/html": [
              "<video src=\"ppo_policy.webm\" controls  >\n",
              "      Your browser does not support the <code>video</code> element.\n",
              "    </video>"
            ],
            "text/plain": [
              "<IPython.core.display.Video object>"
            ]
          },
          "execution_count": 7,
          "metadata": {},
          "output_type": "execute_result"
        }
      ],
      "source": [
        "from stable_baselines3 import PPO\n",
        "\n",
        "env = gym.make(\"CartPole-v1\")\n",
        "\n",
        "# create a PPO algorithm powered agent\n",
        "model = PPO(\"MlpPolicy\", env, verbose=1)\n",
        "# learn with a budget of 10,000 environment interactions\n",
        "model.learn(total_timesteps=10_000)\n",
        "\n",
        "# evaluate and watch the learned policy\n",
        "obs = env.reset()\n",
        "imgs = []\n",
        "for i in range(1000):\n",
        "    action, _states = model.predict(obs, deterministic=True)\n",
        "    obs, reward, done, info = env.step(action)\n",
        "    imgs += [env.render(\"rgb_array\")] # save to video\n",
        "    # VecEnv resets automatically\n",
        "    if done:\n",
        "        obs = env.reset()\n",
        "env.close()\n",
        "animate(imgs, \"ppo_policy.webm\") # generate the video replay"
      ]
    },
    {
      "cell_type": "markdown",
      "id": "a235d29a-b54e-4bda-a403-e18c93d10910",
      "metadata": {
        "id": "a235d29a-b54e-4bda-a403-e18c93d10910"
      },
      "source": [
        "### 2.2 Scaling up Deep RL\n",
        "\n",
        "RL is often known for being a promising direction, but a fairly inefficient one. The particular algorithm used above is called PPO and has been a staple of the RL research community as it is generally easy to tune and very robust. However it is very **sample inefficient**, meaning it needs many many environment interactions in order to learn something. One way of dealing with this problem is to simply scale up the training by making it run faster. (The other way is to use different algorithms e.g. off-policy ones such as SAC but that's a topic beyond the scope of this tutorial)"
      ]
    },
    {
      "cell_type": "markdown",
      "id": "3beb35c0-01e6-4d2f-abc1-993f5277dc89",
      "metadata": {
        "id": "3beb35c0-01e6-4d2f-abc1-993f5277dc89"
      },
      "source": [
        "A simple way to increase the speed at which we sample from an environment is to sample from many environments simultaneously. This enables us to leverage the power of parallel computation that is fast in neural networks and even faster when using a GPU/TPU. We can run `n_envs` environments simultaneously to form a single **Vectorized Environment**.\n",
        "\n",
        "Vectorized environments **batch** an environment so that returned observations have an additional batch dimension (e.g. if it was shape `(3,)` it's new shape is `(B, 3)`) and accepted actions must also have this batch dimension, with `B` equal to the number of parallel environments. As vectorized environments accept a batch of actions, with GPUs/TPUs we can easily generate this batch of actions far faster than generating them one at a time, improving the speed at which we sample from an environment.\n",
        "\n",
        "Try changing the `n_envs` parameter below. You will notice a massive speed up in the training time as `n_envs` is larger. Note that `n_envs` shouldn't be higher than the number of cores your CPU has."
      ]
    },
    {
      "cell_type": "code",
      "execution_count": null,
      "id": "15bf78f6-4cf1-4656-8ac6-60b896659c3c",
      "metadata": {
        "id": "15bf78f6-4cf1-4656-8ac6-60b896659c3c",
        "outputId": "f4523923-fd83-41f6-c4e1-ef10aaeb7e44"
      },
      "outputs": [
        {
          "name": "stdout",
          "output_type": "stream",
          "text": [
            "Using cuda device\n",
            "---------------------------------\n",
            "| rollout/           |          |\n",
            "|    ep_len_mean     | 23.1     |\n",
            "|    ep_rew_mean     | 23.1     |\n",
            "| time/              |          |\n",
            "|    fps             | 4360     |\n",
            "|    iterations      | 1        |\n",
            "|    time_elapsed    | 0        |\n",
            "|    total_timesteps | 4096     |\n",
            "---------------------------------\n",
            "-----------------------------------------\n",
            "| rollout/                |             |\n",
            "|    ep_len_mean          | 33.5        |\n",
            "|    ep_rew_mean          | 33.5        |\n",
            "| time/                   |             |\n",
            "|    fps                  | 2424        |\n",
            "|    iterations           | 2           |\n",
            "|    time_elapsed         | 3           |\n",
            "|    total_timesteps      | 8192        |\n",
            "| train/                  |             |\n",
            "|    approx_kl            | 0.013168896 |\n",
            "|    clip_fraction        | 0.151       |\n",
            "|    clip_range           | 0.2         |\n",
            "|    entropy_loss         | -0.684      |\n",
            "|    explained_variance   | -0.0064     |\n",
            "|    learning_rate        | 0.0003      |\n",
            "|    loss                 | 4.04        |\n",
            "|    n_updates            | 10          |\n",
            "|    policy_gradient_loss | -0.0208     |\n",
            "|    value_loss           | 33.1        |\n",
            "-----------------------------------------\n",
            "-----------------------------------------\n",
            "| rollout/                |             |\n",
            "|    ep_len_mean          | 44.3        |\n",
            "|    ep_rew_mean          | 44.3        |\n",
            "| time/                   |             |\n",
            "|    fps                  | 2108        |\n",
            "|    iterations           | 3           |\n",
            "|    time_elapsed         | 5           |\n",
            "|    total_timesteps      | 12288       |\n",
            "| train/                  |             |\n",
            "|    approx_kl            | 0.012627685 |\n",
            "|    clip_fraction        | 0.126       |\n",
            "|    clip_range           | 0.2         |\n",
            "|    entropy_loss         | -0.654      |\n",
            "|    explained_variance   | 0.293       |\n",
            "|    learning_rate        | 0.0003      |\n",
            "|    loss                 | 10.9        |\n",
            "|    n_updates            | 20          |\n",
            "|    policy_gradient_loss | -0.0246     |\n",
            "|    value_loss           | 28.7        |\n",
            "-----------------------------------------\n"
          ]
        },
        {
          "name": "stderr",
          "output_type": "stream",
          "text": [
            "OpenCV: FFMPEG: tag 0x30385056/'VP80' is not supported with codec id 139 and format 'webm / WebM'\n"
          ]
        },
        {
          "data": {
            "text/html": [
              "<video src=\"ppo_policy_vec_env.webm\" controls  >\n",
              "      Your browser does not support the <code>video</code> element.\n",
              "    </video>"
            ],
            "text/plain": [
              "<IPython.core.display.Video object>"
            ]
          },
          "execution_count": 8,
          "metadata": {},
          "output_type": "execute_result"
        }
      ],
      "source": [
        "from stable_baselines3.common.env_util import make_vec_env\n",
        "\n",
        "n_envs = 2 # configure how many environments to run in parallel.\n",
        "\n",
        "env = make_vec_env(\"CartPole-v1\", n_envs=n_envs)\n",
        "model = PPO(\"MlpPolicy\", env, verbose=1)\n",
        "model.learn(total_timesteps=10_000)\n",
        "\n",
        "obs = env.reset()\n",
        "imgs = []\n",
        "for i in range(1000):\n",
        "    action, _states = model.predict(obs, deterministic=True)\n",
        "    obs, reward, done, info = env.step(action)\n",
        "    imgs += [env.render(\"rgb_array\")] # save to video\n",
        "    # VecEnv resets automatically so no need to do below\n",
        "    # if done: env.reset()\n",
        "env.close()\n",
        "animate(imgs, \"ppo_policy_vec_env.webm\") # generate the video replay"
      ]
    },
    {
      "cell_type": "markdown",
      "id": "e7bb02f3-6e41-4e57-809c-8dab5cb4b672",
      "metadata": {
        "id": "e7bb02f3-6e41-4e57-809c-8dab5cb4b672"
      },
      "source": [
        "## 3 Final Thoughts\n",
        "\n",
        "And that's the basics of programming a deep RL agent! Pick an environment, vectorize it, and run it through a RL library like SB3.\n",
        "\n",
        "For more complicated environments like robotics or multi-agent environments there's a lot more work involved. This may include **reward shaping**, **hyperparameter tuning**, as well as \n",
        "\n",
        "Part 2 of the tutorial series will these details on how to improve the RL training on more difficult environments."
      ]
    }
  ],
  "metadata": {
    "kernelspec": {
      "display_name": "Python 3 (ipykernel)",
      "language": "python",
      "name": "python3"
    },
    "language_info": {
      "codemirror_mode": {
        "name": "ipython",
        "version": 3
      },
      "file_extension": ".py",
      "mimetype": "text/x-python",
      "name": "python",
      "nbconvert_exporter": "python",
      "pygments_lexer": "ipython3",
      "version": "3.8.15"
    },
    "colab": {
      "provenance": [],
      "include_colab_link": true
    }
  },
  "nbformat": 4,
  "nbformat_minor": 5
}